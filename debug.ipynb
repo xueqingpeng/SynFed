{
 "cells": [
  {
   "cell_type": "code",
   "execution_count": 1,
   "metadata": {},
   "outputs": [],
   "source": [
    "import jsonlines\n",
    "import pandas as pd \n",
    "import json \n",
    "from src.client import TextToDictMixin\n",
    "from src.data import SCHEMA_MAP"
   ]
  },
  {
   "cell_type": "code",
   "execution_count": 2,
   "metadata": {},
   "outputs": [],
   "source": [
    "ds_name=\"adult\"\n",
    "input_file = f\"tmp/{ds_name}.score.jsonl\"\n",
    "with jsonlines.open(input_file) as reader:\n",
    "    data = list(reader)\n",
    "\n",
    "df = pd.DataFrame(data)\n",
    "df = df[['syn_pmt_id', 'syn_id', 'prompt', 'answer', 'status', 'result', 'ds0', 'ds1', 'gain_score', 'status_score']]"
   ]
  },
  {
   "cell_type": "code",
   "execution_count": null,
   "metadata": {},
   "outputs": [],
   "source": [
    "input_file = \"syned_datasets/syn1_raw/diabetes.raw.jsonl\"\n",
    "with jsonlines.open(input_file) as reader:\n",
    "    data = list(reader)\n",
    "    \n",
    "schema = SCHEMA_MAP['diabetes']\n",
    "t2d = TextToDictMixin(schema)\n",
    "d = data[0]"
   ]
  },
  {
   "cell_type": "code",
   "execution_count": 7,
   "metadata": {},
   "outputs": [
    {
     "name": "stdout",
     "output_type": "stream",
     "text": [
      "Dataset saved as JSONL at: syned_datasets/tmp/switzerland.jsonl\n"
     ]
    }
   ],
   "source": [
    "from datasets import load_from_disk\n",
    "import pandas as pd\n",
    "import jsonlines\n",
    "import os\n",
    "\n",
    "def convert_dataset_to_jsonl(dataset_path, output_file):\n",
    "    \"\"\"\n",
    "    Load a dataset from disk, convert it to JSONL format, and save it.\n",
    "\n",
    "    Args:\n",
    "        dataset_path (str): Path to the dataset directory.\n",
    "        output_file (str): Path to save the JSONL file.\n",
    "    \"\"\"\n",
    "    # Load the dataset from disk\n",
    "    dataset = load_from_disk(dataset_path)\n",
    "\n",
    "    # Convert to Pandas DataFrame\n",
    "    df = pd.DataFrame(dataset)\n",
    "\n",
    "    # Save DataFrame to JSONL format\n",
    "    os.makedirs(os.path.dirname(output_file), exist_ok=True)\n",
    "    with jsonlines.open(output_file, mode='w') as writer:\n",
    "        writer.write_all(df.to_dict(orient='records'))\n",
    "    \n",
    "    print(f\"Dataset saved as JSONL at: {output_file}\")\n",
    "\n",
    "# Example usage\n",
    "dataset_path = \"syned_datasets/syn1_dpo/switzerland\"  # Modify as needed\n",
    "output_file = \"syned_datasets/tmp/switzerland.jsonl\"  # Modify as needed\n",
    "\n",
    "convert_dataset_to_jsonl(dataset_path, output_file)\n",
    "\n",
    "\n"
   ]
  },
  {
   "cell_type": "code",
   "execution_count": 6,
   "metadata": {},
   "outputs": [],
   "source": [
    "df.to_json(\"tmp/test.json\")"
   ]
  },
  {
   "cell_type": "code",
   "execution_count": null,
   "metadata": {},
   "outputs": [],
   "source": []
  }
 ],
 "metadata": {
  "kernelspec": {
   "display_name": "vllm_pixiu",
   "language": "python",
   "name": "python3"
  },
  "language_info": {
   "codemirror_mode": {
    "name": "ipython",
    "version": 3
   },
   "file_extension": ".py",
   "mimetype": "text/x-python",
   "name": "python",
   "nbconvert_exporter": "python",
   "pygments_lexer": "ipython3",
   "version": "3.10.12"
  }
 },
 "nbformat": 4,
 "nbformat_minor": 2
}
